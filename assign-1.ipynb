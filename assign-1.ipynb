{
  "nbformat": 4,
  "nbformat_minor": 0,
  "metadata": {
    "colab": {
      "provenance": [],
      "history_visible": true
    },
    "kernelspec": {
      "display_name": "Python 3",
      "language": "python",
      "name": "python3"
    },
    "language_info": {
      "codemirror_mode": {
        "name": "ipython",
        "version": 3
      },
      "file_extension": ".py",
      "mimetype": "text/x-python",
      "name": "python",
      "nbconvert_exporter": "python",
      "pygments_lexer": "ipython3",
      "version": "3.8.5"
    }
  },
  "cells": [
    {
      "cell_type": "markdown",
      "metadata": {
        "id": "Tajfsk_7JY3E"
      },
      "source": [
        "**Note to grader:** Each question consists of parts, e.g. Q1(i), Q1(ii), etc. Each part must be graded on scale of 0-4 scale, following the standard NJIT convention (A: 4, B+: 3.5, B: 3, C+: 2.5, C: 2, D: 1, F: 0).\n",
        "\n",
        "This review assignment is worth proportionally less than the others (40% of the weight of the Assignments 2-6). For Canvas to apply the weighting properly, the total score for this assignment must be re-scaled to 40."
      ]
    },
    {
      "cell_type": "markdown",
      "metadata": {
        "id": "e8SKy70z2osa"
      },
      "source": [
        "----\n",
        "\n",
        "<i>General instructions for this and future notebooks:</i>\n",
        "1. To run a cell and move to the next cell: Hold down <strong>Shift</strong> and press <strong>Enter</strong>.\n",
        "2. To run a cell and stay in the same cell: Hold down <b>Ctrl</b> and press <b>Enter</b>.\n",
        "3. Use the arrow up and down to navigate or do it manually as you prefer.\n",
        "4. Escape from typing a cell: Hit <b>Esc</b>.\n",
        "\n",
        "---------\n",
        "\n",
        "<b>Note: </b>\n",
        "\n",
        "> You must run/evaluate all cells. <b>Order of cell execution is important.</b>\n",
        "\n",
        "\n",
        "\n",
        "> You must work directly out of a copy of the assignment notebook given to you, in the exact order.\n"
      ]
    },
    {
      "cell_type": "code",
      "metadata": {
        "id": "I-sfBXk9AkfN"
      },
      "source": [
        "# Grader's area\n",
        "\n",
        "import numpy as np\n",
        "\n",
        "# This assignment contains 5 exercises each with at most 3 parts.\n",
        "# We initialize a 6x4 array M, containing zeros.\n",
        "# The grade for question i, part j, will be recorded in M[i,j].\n",
        "# Then the total grade can be easily computed in the last grader's area.\n",
        "\n",
        "maxScore = 0\n",
        "M = np.zeros((6,4))"
      ],
      "execution_count": null,
      "outputs": []
    },
    {
      "cell_type": "markdown",
      "metadata": {
        "id": "ly4laI7pfGJO"
      },
      "source": [
        "# **Assignment 1**\n",
        "The first assignment walks you through some elements of Python/Numpy. It is meant mostly to familiarize you with Jupyter notebooks. It includes cells for demonstration, leading to clearly-marked cells for questions.\n",
        "\n"
      ]
    },
    {
      "cell_type": "markdown",
      "metadata": {
        "id": "8owP8xk_yi6h"
      },
      "source": [
        "-----------------------"
      ]
    },
    {
      "cell_type": "markdown",
      "metadata": {
        "id": "r_tl0TKffGJP"
      },
      "source": [
        "### **Part 1: NumPy walk-through**\n",
        "\n",
        "Let's look at matrix A and how it is presented in Numpy:\n",
        "\\begin{equation*}\n",
        "A =\n",
        "\\begin{pmatrix}\n",
        "1 & 2 & 3 \\\\\n",
        "4 & 5 & 6 \\\\\n",
        "7 & 8 & 9\n",
        "\\end{pmatrix}\n",
        "\\end{equation*}"
      ]
    },
    {
      "cell_type": "code",
      "metadata": {
        "id": "ik4Gngp2fGJQ",
        "colab": {
          "base_uri": "https://localhost:8080/"
        },
        "outputId": "e2f17ede-75e4-4579-b144-fd4ac79e805a"
      },
      "source": [
        "import numpy as np\n",
        "\n",
        "# here the notation np.X invokes a function X from module np\n",
        "#    where np is an alias for numpy as note in line-1 above.\n",
        "\n",
        "A = np.array([[1,2,3],[4,5,6],[7,8,9]], dtype = float)\n",
        "print('This is how matrix A will be presented in Numpy:\\n\\n {}\\n'.format(A))\n",
        "\n",
        "# Example of describing A\n",
        "print('We just create a {}'.format(type(A)))\n",
        "print('Our template has shape as {} with total size of {}'.format(A.shape, A.size))\n",
        "print('The total dimension of A is {}'.format(A.ndim))\n",
        "\n",
        "# Multi-line print out\n",
        "print('''The data types of elements of A are {},\n",
        "        which consumes {} bytes'''.format(A.dtype, A.nbytes))"
      ],
      "execution_count": null,
      "outputs": [
        {
          "output_type": "stream",
          "name": "stdout",
          "text": [
            "This is how matrix A will be presented in Numpy:\n",
            "\n",
            " [[1. 2. 3.]\n",
            " [4. 5. 6.]\n",
            " [7. 8. 9.]]\n",
            "\n",
            "We just create a <class 'numpy.ndarray'>\n",
            "Our template has shape as (3, 3) with total size of 9\n",
            "The total dimension of A is 2\n",
            "The data types of elements of A are float64,\n",
            "        which consumes 72 bytes\n"
          ]
        }
      ]
    },
    {
      "cell_type": "code",
      "metadata": {
        "id": "oqhQyAZTfGJV"
      },
      "source": [
        "# create a copy of A with integer type\n",
        "A_copy = np.array(A, dtype=np.int32)"
      ],
      "execution_count": null,
      "outputs": []
    },
    {
      "cell_type": "markdown",
      "metadata": {
        "id": "2XxgGLoIfGJY"
      },
      "source": [
        "#### NumPy array operations"
      ]
    },
    {
      "cell_type": "code",
      "metadata": {
        "id": "scImnsyJfGJY",
        "colab": {
          "base_uri": "https://localhost:8080/"
        },
        "outputId": "d78c651e-bb27-4055-edf5-2236038b746c"
      },
      "source": [
        "# Turn a python list to numpy array\n",
        "checking_acct = [10.1, 2.3, -3, 100]\n",
        "checking_acct_array = np.asarray(checking_acct)\n",
        "type(checking_acct_array)"
      ],
      "execution_count": null,
      "outputs": [
        {
          "output_type": "execute_result",
          "data": {
            "text/plain": [
              "numpy.ndarray"
            ]
          },
          "metadata": {},
          "execution_count": 75
        }
      ]
    },
    {
      "cell_type": "code",
      "metadata": {
        "id": "mHPmhzdOfGJb",
        "colab": {
          "base_uri": "https://localhost:8080/"
        },
        "outputId": "abdbd6ec-1b91-4f5e-8927-7d5404a7d7dd"
      },
      "source": [
        "# adding $2 to each deposit/withdrawal transaction\n",
        "checking_acct_array + 2"
      ],
      "execution_count": null,
      "outputs": [
        {
          "output_type": "execute_result",
          "data": {
            "text/plain": [
              "array([ 12.1,   4.3,  -1. , 102. ])"
            ]
          },
          "metadata": {},
          "execution_count": 76
        }
      ]
    },
    {
      "cell_type": "code",
      "metadata": {
        "id": "RQAbwx5gfGJe",
        "colab": {
          "base_uri": "https://localhost:8080/"
        },
        "outputId": "34544f14-5696-4479-d14c-5b1deaed2e32"
      },
      "source": [
        "# subtract $0.5 from each transaction\n",
        "checking_acct_array - 0.5"
      ],
      "execution_count": null,
      "outputs": [
        {
          "output_type": "execute_result",
          "data": {
            "text/plain": [
              "array([ 9.6,  1.8, -3.5, 99.5])"
            ]
          },
          "metadata": {},
          "execution_count": 77
        }
      ]
    },
    {
      "cell_type": "code",
      "metadata": {
        "id": "UaMikHWpfGJg",
        "colab": {
          "base_uri": "https://localhost:8080/"
        },
        "outputId": "ebad8201-6a81-491d-cbf9-cf864e91ed4f"
      },
      "source": [
        "# double it up\n",
        "checking_acct_array * 2"
      ],
      "execution_count": null,
      "outputs": [
        {
          "output_type": "execute_result",
          "data": {
            "text/plain": [
              "array([ 20.2,   4.6,  -6. , 200. ])"
            ]
          },
          "metadata": {},
          "execution_count": 78
        }
      ]
    },
    {
      "cell_type": "code",
      "metadata": {
        "id": "Viiu3ePUfGJi",
        "colab": {
          "base_uri": "https://localhost:8080/"
        },
        "outputId": "95cc93c1-f12c-44b0-c69f-5f265a761187"
      },
      "source": [
        "# divide the amounts by 3\n",
        "checking_acct_array / 3"
      ],
      "execution_count": null,
      "outputs": [
        {
          "output_type": "execute_result",
          "data": {
            "text/plain": [
              "array([ 3.36666667,  0.76666667, -1.        , 33.33333333])"
            ]
          },
          "metadata": {},
          "execution_count": 79
        }
      ]
    },
    {
      "cell_type": "markdown",
      "metadata": {
        "id": "oGZMC38NfGJl"
      },
      "source": [
        "Note: You can't do the above operation with list. You will have to iterate the list's elements. For example:"
      ]
    },
    {
      "cell_type": "code",
      "metadata": {
        "id": "u6EM8P58fGJl",
        "colab": {
          "base_uri": "https://localhost:8080/"
        },
        "outputId": "eae3c346-279d-42c6-d392-0493923a1b1b"
      },
      "source": [
        "# to add $2 to each transaction with checking_acct, we must use list comprehension.\n",
        "[x + 2 for x in checking_acct]"
      ],
      "execution_count": null,
      "outputs": [
        {
          "output_type": "execute_result",
          "data": {
            "text/plain": [
              "[12.1, 4.3, -1, 102]"
            ]
          },
          "metadata": {},
          "execution_count": 80
        }
      ]
    },
    {
      "cell_type": "code",
      "metadata": {
        "id": "eYGHGQRhfGJo",
        "colab": {
          "base_uri": "https://localhost:8080/"
        },
        "outputId": "2caad4cb-557a-4135-8065-48f64ec2e517"
      },
      "source": [
        "# create a one-dimensional array containing 10 ones\n",
        "np.ones(10)"
      ],
      "execution_count": null,
      "outputs": [
        {
          "output_type": "execute_result",
          "data": {
            "text/plain": [
              "array([1., 1., 1., 1., 1., 1., 1., 1., 1., 1.])"
            ]
          },
          "metadata": {},
          "execution_count": 81
        }
      ]
    },
    {
      "cell_type": "code",
      "metadata": {
        "id": "zU9DzeFtfGJr",
        "colab": {
          "base_uri": "https://localhost:8080/"
        },
        "outputId": "df8114a4-7fda-451d-9760-2db0393b2fa8"
      },
      "source": [
        "# create an identity matrix\n",
        "np.identity(4)"
      ],
      "execution_count": null,
      "outputs": [
        {
          "output_type": "execute_result",
          "data": {
            "text/plain": [
              "array([[1., 0., 0., 0.],\n",
              "       [0., 1., 0., 0.],\n",
              "       [0., 0., 1., 0.],\n",
              "       [0., 0., 0., 1.]])"
            ]
          },
          "metadata": {},
          "execution_count": 82
        }
      ]
    },
    {
      "cell_type": "code",
      "metadata": {
        "id": "bzyiFkjpfGJt",
        "colab": {
          "base_uri": "https://localhost:8080/"
        },
        "outputId": "c9d18db0-4081-4cd5-da53-66861ba8c9df"
      },
      "source": [
        "# create an array size 1 x 9 including only even numbers starting from 2\n",
        "x = np.arange(2,20,2)\n",
        "x"
      ],
      "execution_count": null,
      "outputs": [
        {
          "output_type": "execute_result",
          "data": {
            "text/plain": [
              "array([ 2,  4,  6,  8, 10, 12, 14, 16, 18])"
            ]
          },
          "metadata": {},
          "execution_count": 83
        }
      ]
    },
    {
      "cell_type": "code",
      "metadata": {
        "id": "Fi7yU_v3fGJw",
        "colab": {
          "base_uri": "https://localhost:8080/"
        },
        "outputId": "c2fbd44b-58c1-4bf8-ccf5-b67c0ce62156"
      },
      "source": [
        "# reshape x to size 3 x 3 we get the following matrix\n",
        "\n",
        "# Variables in Python (an numpy) are objects.\n",
        "# Each object contains data (like x does), but it is also associated\n",
        "# with methods, i.e. python functions that can apply to it.\n",
        "# When we apply such an operation, we use the notation x.fname, like\n",
        "# below.\n",
        "\n",
        "x = x.reshape(3,3)\n",
        "x"
      ],
      "execution_count": null,
      "outputs": [
        {
          "output_type": "execute_result",
          "data": {
            "text/plain": [
              "array([[ 2,  4,  6],\n",
              "       [ 8, 10, 12],\n",
              "       [14, 16, 18]])"
            ]
          },
          "metadata": {},
          "execution_count": 84
        }
      ]
    },
    {
      "cell_type": "code",
      "metadata": {
        "id": "lhwnA49lfGJy"
      },
      "source": [
        "# transpose x\n",
        "y = x.T"
      ],
      "execution_count": null,
      "outputs": []
    },
    {
      "cell_type": "code",
      "metadata": {
        "id": "-34yj_jDfGJ0",
        "colab": {
          "base_uri": "https://localhost:8080/"
        },
        "outputId": "cbab4c6c-2a71-4a19-b332-34c5bec1377e"
      },
      "source": [
        "# compare two arrays\n",
        "x == y"
      ],
      "execution_count": null,
      "outputs": [
        {
          "output_type": "execute_result",
          "data": {
            "text/plain": [
              "array([[ True, False, False],\n",
              "       [False,  True, False],\n",
              "       [False, False,  True]])"
            ]
          },
          "metadata": {},
          "execution_count": 86
        }
      ]
    },
    {
      "cell_type": "code",
      "metadata": {
        "id": "Akbw9C1PfGJ2",
        "colab": {
          "base_uri": "https://localhost:8080/"
        },
        "outputId": "ef5d433f-1a8b-4f50-d326-0cedded0e242"
      },
      "source": [
        "x == y.T"
      ],
      "execution_count": null,
      "outputs": [
        {
          "output_type": "execute_result",
          "data": {
            "text/plain": [
              "array([[ True,  True,  True],\n",
              "       [ True,  True,  True],\n",
              "       [ True,  True,  True]])"
            ]
          },
          "metadata": {},
          "execution_count": 87
        }
      ]
    },
    {
      "cell_type": "code",
      "metadata": {
        "id": "PjbS0Y8zfGJ5",
        "colab": {
          "base_uri": "https://localhost:8080/"
        },
        "outputId": "bc446648-9c45-478b-825a-ec55fd49927a"
      },
      "source": [
        "np.array_equal(x,y.T)"
      ],
      "execution_count": null,
      "outputs": [
        {
          "output_type": "execute_result",
          "data": {
            "text/plain": [
              "True"
            ]
          },
          "metadata": {},
          "execution_count": 88
        }
      ]
    },
    {
      "cell_type": "code",
      "metadata": {
        "id": "vC29JsRAfGJ7",
        "colab": {
          "base_uri": "https://localhost:8080/"
        },
        "outputId": "e4245132-a1b4-4847-ef53-796d7231a499"
      },
      "source": [
        "x < y"
      ],
      "execution_count": null,
      "outputs": [
        {
          "output_type": "execute_result",
          "data": {
            "text/plain": [
              "array([[False,  True,  True],\n",
              "       [False, False,  True],\n",
              "       [False, False, False]])"
            ]
          },
          "metadata": {},
          "execution_count": 89
        }
      ]
    },
    {
      "cell_type": "code",
      "metadata": {
        "id": "9CumfUaRfGJ9",
        "colab": {
          "base_uri": "https://localhost:8080/"
        },
        "outputId": "83055107-d4c5-4c32-b24b-91036c104283"
      },
      "source": [
        "c = np.ones((3,3))\n",
        "c"
      ],
      "execution_count": null,
      "outputs": [
        {
          "output_type": "execute_result",
          "data": {
            "text/plain": [
              "array([[1., 1., 1.],\n",
              "       [1., 1., 1.],\n",
              "       [1., 1., 1.]])"
            ]
          },
          "metadata": {},
          "execution_count": 90
        }
      ]
    },
    {
      "cell_type": "code",
      "metadata": {
        "id": "8sXMycSpfGJ_",
        "colab": {
          "base_uri": "https://localhost:8080/"
        },
        "outputId": "06a0afc4-b50c-42fe-d995-5f9215e934d3"
      },
      "source": [
        "# matrix squaring\n",
        "np.dot(c,c)\n",
        "\n",
        "# or\n",
        "np.matmul(c,c)"
      ],
      "execution_count": null,
      "outputs": [
        {
          "output_type": "execute_result",
          "data": {
            "text/plain": [
              "array([[3., 3., 3.],\n",
              "       [3., 3., 3.],\n",
              "       [3., 3., 3.]])"
            ]
          },
          "metadata": {},
          "execution_count": 91
        }
      ]
    },
    {
      "cell_type": "code",
      "metadata": {
        "id": "phRTWOZwfGKB",
        "colab": {
          "base_uri": "https://localhost:8080/"
        },
        "outputId": "57037d17-e9f0-413f-b4b5-78e4be8a9d57"
      },
      "source": [
        "# stacking/merging two multidimensional arrays\n",
        "x = np.arange(10).reshape(2,5)\n",
        "y = np.arange(15).reshape(3,5)\n",
        "xy = np.vstack((x,y))\n",
        "xy"
      ],
      "execution_count": null,
      "outputs": [
        {
          "output_type": "execute_result",
          "data": {
            "text/plain": [
              "array([[ 0,  1,  2,  3,  4],\n",
              "       [ 5,  6,  7,  8,  9],\n",
              "       [ 0,  1,  2,  3,  4],\n",
              "       [ 5,  6,  7,  8,  9],\n",
              "       [10, 11, 12, 13, 14]])"
            ]
          },
          "metadata": {},
          "execution_count": 92
        }
      ]
    },
    {
      "cell_type": "code",
      "metadata": {
        "id": "pwX_qhk4fGKD",
        "colab": {
          "base_uri": "https://localhost:8080/"
        },
        "outputId": "ffdad4c2-3108-4912-bdca-df927251ba16"
      },
      "source": [
        "x = np.arange(10).reshape(5,2)\n",
        "y = np.arange(15).reshape(5,3)\n",
        "xy = np.hstack((x,y))\n",
        "xy"
      ],
      "execution_count": null,
      "outputs": [
        {
          "output_type": "execute_result",
          "data": {
            "text/plain": [
              "array([[ 0,  1,  0,  1,  2],\n",
              "       [ 2,  3,  3,  4,  5],\n",
              "       [ 4,  5,  6,  7,  8],\n",
              "       [ 6,  7,  9, 10, 11],\n",
              "       [ 8,  9, 12, 13, 14]])"
            ]
          },
          "metadata": {},
          "execution_count": 93
        }
      ]
    },
    {
      "cell_type": "code",
      "metadata": {
        "id": "YCiyIn78fGKF",
        "colab": {
          "base_uri": "https://localhost:8080/"
        },
        "outputId": "92764ffe-cdda-4f92-ff61-2cabd8bf6651"
      },
      "source": [
        "# checking statistics for xy\n",
        "from scipy import stats\n",
        "stats.describe(xy)"
      ],
      "execution_count": null,
      "outputs": [
        {
          "output_type": "execute_result",
          "data": {
            "text/plain": [
              "DescribeResult(nobs=5, minmax=(array([0, 1, 0, 1, 2]), array([ 8,  9, 12, 13, 14])), mean=array([4., 5., 6., 7., 8.]), variance=array([10. , 10. , 22.5, 22.5, 22.5]), skewness=array([0., 0., 0., 0., 0.]), kurtosis=array([-1.3, -1.3, -1.3, -1.3, -1.3]))"
            ]
          },
          "metadata": {},
          "execution_count": 94
        }
      ]
    },
    {
      "cell_type": "code",
      "metadata": {
        "id": "jhXIOt8dfGKH",
        "colab": {
          "base_uri": "https://localhost:8080/"
        },
        "outputId": "3262047c-f694-490a-abc6-90ac14c75594"
      },
      "source": [
        "# generate 20 random records, each has 3 features represented by some random number\n",
        "x = np.random.rand(20,3)\n",
        "\n",
        "# check statistics by feature for these records\n",
        "n, min_max, mean, var, skew, kurt = stats.describe(x)\n",
        "\n",
        "# observe the gather statistics\n",
        "print('''x:\\n {}\\n\\n,n:\\n {}\\n\\n, min_max:\\n {}\\n\\n, mean:\\n {}\\n\\n\n",
        ", var:\\n {}\\n\\n, skew:\\n {}\\n\\n, kurt:\\n {}\\n\\n'''.format(x, n, min_max, mean, var, skew, kurt))"
      ],
      "execution_count": null,
      "outputs": [
        {
          "output_type": "stream",
          "name": "stdout",
          "text": [
            "x:\n",
            " [[0.52141983 0.94264703 0.85982596]\n",
            " [0.66227753 0.92737743 0.46217137]\n",
            " [0.59924609 0.38300626 0.74936309]\n",
            " [0.14578976 0.46160134 0.91849073]\n",
            " [0.59712699 0.6312542  0.27957793]\n",
            " [0.82329852 0.48651388 0.24991344]\n",
            " [0.06562373 0.35334069 0.80000229]\n",
            " [0.47829344 0.50692765 0.69736114]\n",
            " [0.26488294 0.7791545  0.07107444]\n",
            " [0.95514846 0.0808663  0.17856474]\n",
            " [0.68725366 0.45979976 0.14735901]\n",
            " [0.02601034 0.58393194 0.02005609]\n",
            " [0.07827549 0.02375366 0.28794064]\n",
            " [0.7193605  0.6293343  0.74944938]\n",
            " [0.81790947 0.60194022 0.0930202 ]\n",
            " [0.43449932 0.39686702 0.08395544]\n",
            " [0.24289114 0.11915408 0.38285726]\n",
            " [0.80900948 0.66453779 0.85868981]\n",
            " [0.06238663 0.48378464 0.09743504]\n",
            " [0.57644268 0.67669531 0.88064906]]\n",
            "\n",
            ",n:\n",
            " 20\n",
            "\n",
            ", min_max:\n",
            " (array([0.02601034, 0.02375366, 0.02005609]), array([0.95514846, 0.94264703, 0.91849073]))\n",
            "\n",
            ", mean:\n",
            " [0.4783573  0.5096244  0.44338785]\n",
            "\n",
            "\n",
            ", var:\n",
            " [0.08780459 0.0611206  0.10955041]\n",
            "\n",
            ", skew:\n",
            " [-0.20754522 -0.26381724  0.20148505]\n",
            "\n",
            ", kurt:\n",
            " [-1.26207347 -0.23307534 -1.62464188]\n",
            "\n",
            "\n"
          ]
        }
      ]
    },
    {
      "cell_type": "markdown",
      "metadata": {
        "id": "6icgEByffGKK"
      },
      "source": [
        "#### Slice and dice matrix\n",
        "\n",
        "Take out 2 elements in the 1st row, 2nd column, and 3rd row, 3rd column of matrix A from above:\n",
        "\n",
        "$\\begin{equation*}\n",
        "A =\n",
        "\\begin{pmatrix}\n",
        "1 & 2 & 3 \\\\\n",
        "4 & 5 & 6 \\\\\n",
        "7 & 8 & 9\n",
        "\\end{pmatrix}\n",
        "\\end{equation*}\n",
        "$"
      ]
    },
    {
      "cell_type": "code",
      "metadata": {
        "id": "7R8ypS2zfGKN",
        "colab": {
          "base_uri": "https://localhost:8080/"
        },
        "outputId": "8732533e-af3c-40be-c412-22c9444b6ebb"
      },
      "source": [
        "# numpy is indexed from 0. Slice by row and then by column\n",
        "A[[0,2],[1,2]]"
      ],
      "execution_count": null,
      "outputs": [
        {
          "output_type": "execute_result",
          "data": {
            "text/plain": [
              "array([2., 9.])"
            ]
          },
          "metadata": {},
          "execution_count": 96
        }
      ]
    },
    {
      "cell_type": "markdown",
      "metadata": {
        "id": "BfRzbPUXfGKQ"
      },
      "source": [
        "#### Resize and reshape matrix\n",
        "The matrix will be truncated or element values will be repeated if the reshape causes the matrix to change size."
      ]
    },
    {
      "cell_type": "code",
      "metadata": {
        "id": "_YNyARm1fGKQ",
        "colab": {
          "base_uri": "https://localhost:8080/"
        },
        "outputId": "f5e8a930-34b4-4e64-80ef-e10a452cc235"
      },
      "source": [
        "x = (np.arange(9)+1).reshape(3,3)\n",
        "print(x)\n",
        "print('\\nresize smaller\\n {}'.format(np.resize(x,(2,2))))\n",
        "print('\\nresize bigger\\n {}'.format(np.resize(x,(4,4))))"
      ],
      "execution_count": null,
      "outputs": [
        {
          "output_type": "stream",
          "name": "stdout",
          "text": [
            "[[1 2 3]\n",
            " [4 5 6]\n",
            " [7 8 9]]\n",
            "\n",
            "resize smaller\n",
            " [[1 2]\n",
            " [3 4]]\n",
            "\n",
            "resize bigger\n",
            " [[1 2 3 4]\n",
            " [5 6 7 8]\n",
            " [9 1 2 3]\n",
            " [4 5 6 7]]\n"
          ]
        }
      ]
    },
    {
      "cell_type": "markdown",
      "metadata": {
        "id": "bdtCXeGxfGKS"
      },
      "source": [
        "#### Multiplying two matrices\n",
        "An 1-dimensional array is treated as a vector."
      ]
    },
    {
      "cell_type": "code",
      "metadata": {
        "id": "YOFS8ioofGKT",
        "colab": {
          "base_uri": "https://localhost:8080/"
        },
        "outputId": "1d953e56-fe6d-47d6-8d27-ee762b2525b3"
      },
      "source": [
        "# a vector/array y\n",
        "y = np.arange(4)\n",
        "y"
      ],
      "execution_count": null,
      "outputs": [
        {
          "output_type": "execute_result",
          "data": {
            "text/plain": [
              "array([0, 1, 2, 3])"
            ]
          },
          "metadata": {},
          "execution_count": 98
        }
      ]
    },
    {
      "cell_type": "code",
      "metadata": {
        "id": "mEWuYjlxfGKV",
        "colab": {
          "base_uri": "https://localhost:8080/"
        },
        "outputId": "fb379d2b-563f-4c8d-90a9-33c7359a9c23"
      },
      "source": [
        "# a matrix of ones\n",
        "x = np.ones(16).reshape(4,4)\n",
        "x"
      ],
      "execution_count": null,
      "outputs": [
        {
          "output_type": "execute_result",
          "data": {
            "text/plain": [
              "array([[1., 1., 1., 1.],\n",
              "       [1., 1., 1., 1.],\n",
              "       [1., 1., 1., 1.],\n",
              "       [1., 1., 1., 1.]])"
            ]
          },
          "metadata": {},
          "execution_count": 99
        }
      ]
    },
    {
      "cell_type": "code",
      "metadata": {
        "id": "d0707PxPfGKX",
        "colab": {
          "base_uri": "https://localhost:8080/"
        },
        "outputId": "2090db8b-1291-4315-c193-27787f45f09b"
      },
      "source": [
        "x*y"
      ],
      "execution_count": null,
      "outputs": [
        {
          "output_type": "execute_result",
          "data": {
            "text/plain": [
              "array([[0., 1., 2., 3.],\n",
              "       [0., 1., 2., 3.],\n",
              "       [0., 1., 2., 3.],\n",
              "       [0., 1., 2., 3.]])"
            ]
          },
          "metadata": {},
          "execution_count": 100
        }
      ]
    },
    {
      "cell_type": "code",
      "metadata": {
        "id": "EJPYn6rEfGKZ",
        "colab": {
          "base_uri": "https://localhost:8080/"
        },
        "outputId": "3e12123b-3e78-4574-902e-2b5b3cca5baf"
      },
      "source": [
        "x*y.T   # interpreted as x*(y.T)"
      ],
      "execution_count": null,
      "outputs": [
        {
          "output_type": "execute_result",
          "data": {
            "text/plain": [
              "array([[0., 1., 2., 3.],\n",
              "       [0., 1., 2., 3.],\n",
              "       [0., 1., 2., 3.],\n",
              "       [0., 1., 2., 3.]])"
            ]
          },
          "metadata": {},
          "execution_count": 101
        }
      ]
    },
    {
      "cell_type": "code",
      "metadata": {
        "id": "Tsl6MbI2fGKc",
        "colab": {
          "base_uri": "https://localhost:8080/"
        },
        "outputId": "f015480d-e24d-42aa-feaa-c7328ff2462b"
      },
      "source": [
        "y*x"
      ],
      "execution_count": null,
      "outputs": [
        {
          "output_type": "execute_result",
          "data": {
            "text/plain": [
              "array([[0., 1., 2., 3.],\n",
              "       [0., 1., 2., 3.],\n",
              "       [0., 1., 2., 3.],\n",
              "       [0., 1., 2., 3.]])"
            ]
          },
          "metadata": {},
          "execution_count": 102
        }
      ]
    },
    {
      "cell_type": "code",
      "metadata": {
        "id": "fNTRR8DwfGKe",
        "colab": {
          "base_uri": "https://localhost:8080/"
        },
        "outputId": "0afdb37b-2809-4062-b001-e305560cd54a"
      },
      "source": [
        "y.T*x"
      ],
      "execution_count": null,
      "outputs": [
        {
          "output_type": "execute_result",
          "data": {
            "text/plain": [
              "array([[0., 1., 2., 3.],\n",
              "       [0., 1., 2., 3.],\n",
              "       [0., 1., 2., 3.],\n",
              "       [0., 1., 2., 3.]])"
            ]
          },
          "metadata": {},
          "execution_count": 103
        }
      ]
    },
    {
      "cell_type": "code",
      "metadata": {
        "id": "vi5kt5OufGKg",
        "colab": {
          "base_uri": "https://localhost:8080/"
        },
        "outputId": "8ed7cb18-6e8c-4f08-e83b-bb4ec89f3264"
      },
      "source": [
        "x = np.arange(4).reshape(2,2)\n",
        "y1 = np.arange(2)\n",
        "y2 = np.arange(2).reshape(1,2) # in numpy this is the same as y1\n",
        "print('x:\\n{}\\n'.format(x))\n",
        "print('y1:\\n{}\\n'.format(y1))\n",
        "print('y2:\\n{}\\n'.format(y2))"
      ],
      "execution_count": null,
      "outputs": [
        {
          "output_type": "stream",
          "name": "stdout",
          "text": [
            "x:\n",
            "[[0 1]\n",
            " [2 3]]\n",
            "\n",
            "y1:\n",
            "[0 1]\n",
            "\n",
            "y2:\n",
            "[[0 1]]\n",
            "\n"
          ]
        }
      ]
    },
    {
      "cell_type": "code",
      "metadata": {
        "id": "-1k0CFOIfGKi",
        "colab": {
          "base_uri": "https://localhost:8080/"
        },
        "outputId": "6d3ae3f4-a792-48c4-d848-ab3344ca4008"
      },
      "source": [
        "x*y1"
      ],
      "execution_count": null,
      "outputs": [
        {
          "output_type": "execute_result",
          "data": {
            "text/plain": [
              "array([[0, 1],\n",
              "       [0, 3]])"
            ]
          },
          "metadata": {},
          "execution_count": 105
        }
      ]
    },
    {
      "cell_type": "code",
      "metadata": {
        "id": "EW90NQ6nfGKk",
        "colab": {
          "base_uri": "https://localhost:8080/"
        },
        "outputId": "d57eedf8-9ced-4f5b-a76c-ccdbd8cdc121"
      },
      "source": [
        "x*y2"
      ],
      "execution_count": null,
      "outputs": [
        {
          "output_type": "execute_result",
          "data": {
            "text/plain": [
              "array([[0, 1],\n",
              "       [0, 3]])"
            ]
          },
          "metadata": {},
          "execution_count": 106
        }
      ]
    },
    {
      "cell_type": "code",
      "metadata": {
        "id": "ban5G53YfGKm",
        "colab": {
          "base_uri": "https://localhost:8080/"
        },
        "outputId": "275b11a7-b6e1-4a03-cebf-ecc22e6477ea"
      },
      "source": [
        "# generate two matrices\n",
        "a = np.arange(10).reshape(2,5)\n",
        "b = np.arange(15).reshape(5,3)\n",
        "print(a)\n",
        "print()\n",
        "print(b)"
      ],
      "execution_count": null,
      "outputs": [
        {
          "output_type": "stream",
          "name": "stdout",
          "text": [
            "[[0 1 2 3 4]\n",
            " [5 6 7 8 9]]\n",
            "\n",
            "[[ 0  1  2]\n",
            " [ 3  4  5]\n",
            " [ 6  7  8]\n",
            " [ 9 10 11]\n",
            " [12 13 14]]\n"
          ]
        }
      ]
    },
    {
      "cell_type": "code",
      "metadata": {
        "id": "iXVjcn_ffGKp",
        "colab": {
          "base_uri": "https://localhost:8080/"
        },
        "outputId": "a59e654a-33c1-43e7-e44a-125978527bf1"
      },
      "source": [
        "# check if operation dot is equal to operation matmul\n",
        "np.array_equal(np.dot(a,b),np.matmul(a,b))"
      ],
      "execution_count": null,
      "outputs": [
        {
          "output_type": "execute_result",
          "data": {
            "text/plain": [
              "True"
            ]
          },
          "metadata": {},
          "execution_count": 108
        }
      ]
    },
    {
      "cell_type": "code",
      "metadata": {
        "id": "M31vWN03fGKs",
        "colab": {
          "base_uri": "https://localhost:8080/"
        },
        "outputId": "c69c9433-0845-4777-d430-0a7bb7f6ecd6"
      },
      "source": [
        "# multiply a by b\n",
        "np.matmul(a,b)"
      ],
      "execution_count": null,
      "outputs": [
        {
          "output_type": "execute_result",
          "data": {
            "text/plain": [
              "array([[ 90, 100, 110],\n",
              "       [240, 275, 310]])"
            ]
          },
          "metadata": {},
          "execution_count": 109
        }
      ]
    },
    {
      "cell_type": "code",
      "metadata": {
        "id": "4jhyA0VYfGKv",
        "colab": {
          "base_uri": "https://localhost:8080/"
        },
        "outputId": "db9f2455-66e6-4e76-ac3b-c14fca00fa2c"
      },
      "source": [
        "# another way to multiply a by b\n",
        "a@b"
      ],
      "execution_count": null,
      "outputs": [
        {
          "output_type": "execute_result",
          "data": {
            "text/plain": [
              "array([[ 90, 100, 110],\n",
              "       [240, 275, 310]])"
            ]
          },
          "metadata": {},
          "execution_count": 110
        }
      ]
    },
    {
      "cell_type": "code",
      "metadata": {
        "id": "HbJu-_fLfGK0",
        "colab": {
          "base_uri": "https://localhost:8080/"
        },
        "outputId": "7e0f03ad-25a0-48ae-ca7b-1ba32474e3a8"
      },
      "source": [
        "a = np.arange(9).reshape(3,3)\n",
        "b = np.arange(3)\n",
        "print('{}\\n\\n{}'.format(a,b))"
      ],
      "execution_count": null,
      "outputs": [
        {
          "output_type": "stream",
          "name": "stdout",
          "text": [
            "[[0 1 2]\n",
            " [3 4 5]\n",
            " [6 7 8]]\n",
            "\n",
            "[0 1 2]\n"
          ]
        }
      ]
    },
    {
      "cell_type": "code",
      "metadata": {
        "id": "2Cxjq5WFfGK4",
        "colab": {
          "base_uri": "https://localhost:8080/"
        },
        "outputId": "b67f334d-6384-4314-ec34-b22b57070029"
      },
      "source": [
        "# inner product of 2 vectors\n",
        "np.inner(a,b)"
      ],
      "execution_count": null,
      "outputs": [
        {
          "output_type": "execute_result",
          "data": {
            "text/plain": [
              "array([ 5, 14, 23])"
            ]
          },
          "metadata": {},
          "execution_count": 112
        }
      ]
    },
    {
      "cell_type": "code",
      "metadata": {
        "id": "AuSfLhm2fGK8",
        "colab": {
          "base_uri": "https://localhost:8080/"
        },
        "outputId": "0514527d-11d5-40b0-9836-2ccac77aaa9a"
      },
      "source": [
        "# outer product of 2 vectors\n",
        "np.outer(a,b)"
      ],
      "execution_count": null,
      "outputs": [
        {
          "output_type": "execute_result",
          "data": {
            "text/plain": [
              "array([[ 0,  0,  0],\n",
              "       [ 0,  1,  2],\n",
              "       [ 0,  2,  4],\n",
              "       [ 0,  3,  6],\n",
              "       [ 0,  4,  8],\n",
              "       [ 0,  5, 10],\n",
              "       [ 0,  6, 12],\n",
              "       [ 0,  7, 14],\n",
              "       [ 0,  8, 16]])"
            ]
          },
          "metadata": {},
          "execution_count": 113
        }
      ]
    },
    {
      "cell_type": "markdown",
      "metadata": {
        "id": "bQda4F4EfGK_"
      },
      "source": [
        "#### Solving linear equations\n",
        "An example: Solve three linear equations with 3 unknowns as follows:<br>\n",
        "$x_1 + 2x_2 + 3x_3 = 10$<br>\n",
        "$4x_1 + 4x_2 + 5x_3=4$<br>\n",
        "$3x_1 + 8x_2 + 9x_3 = 3$<br>\n",
        "\n",
        "We have a linear equation to solve as in the form $Ax = B$, where\n",
        "\\begin{equation*}\n",
        "A =\n",
        "\\begin{pmatrix}\n",
        "1 & 2 & 3 \\\\\n",
        "4 & 4 & 5 \\\\\n",
        "3 & 8 & 9\n",
        "\\end{pmatrix}\n",
        ",\n",
        "B =\n",
        "\\begin{pmatrix}\n",
        "10 \\\\\n",
        "4 \\\\\n",
        "3\n",
        "\\end{pmatrix}\n",
        ",\n",
        "x =\n",
        "\\begin{pmatrix}\n",
        "x_1 \\\\\n",
        "x_2 \\\\\n",
        "x_3\n",
        "\\end{pmatrix}\n",
        "\\end{equation*}\n",
        "\n",
        "<br>\n",
        "In simple cases with small matrices, we can do $x = A^{-1}B$."
      ]
    },
    {
      "cell_type": "code",
      "metadata": {
        "id": "PLS1GVLMfGLA",
        "colab": {
          "base_uri": "https://localhost:8080/"
        },
        "outputId": "17e4aed3-247b-4eda-bebd-a7c1939fca54"
      },
      "source": [
        "A = np.array([[1,2,3],[4,4,5],[3,8,9]])\n",
        "B = np.array([10,4,3])\n",
        "A_inv = np.linalg.inv(A)\n",
        "A_inv"
      ],
      "execution_count": null,
      "outputs": [
        {
          "output_type": "execute_result",
          "data": {
            "text/plain": [
              "array([[-0.28571429,  0.42857143, -0.14285714],\n",
              "       [-1.5       , -0.        ,  0.5       ],\n",
              "       [ 1.42857143, -0.14285714, -0.28571429]])"
            ]
          },
          "metadata": {},
          "execution_count": 114
        }
      ]
    },
    {
      "cell_type": "code",
      "metadata": {
        "id": "2_Rev7MEfGLC"
      },
      "source": [
        "x = np.dot(A_inv, B)"
      ],
      "execution_count": null,
      "outputs": []
    },
    {
      "cell_type": "code",
      "metadata": {
        "id": "e-oPmxrSfGLF",
        "colab": {
          "base_uri": "https://localhost:8080/"
        },
        "outputId": "b2b669e8-9976-43d6-f407-90d65de72717"
      },
      "source": [
        "# check results with allclose() function)\n",
        "np.allclose(np.dot(A,x),B)"
      ],
      "execution_count": null,
      "outputs": [
        {
          "output_type": "execute_result",
          "data": {
            "text/plain": [
              "True"
            ]
          },
          "metadata": {},
          "execution_count": 116
        }
      ]
    },
    {
      "cell_type": "markdown",
      "metadata": {
        "id": "Vbt-t8rpEP7R"
      },
      "source": [
        "-----"
      ]
    },
    {
      "cell_type": "markdown",
      "metadata": {
        "id": "77y-VVzxfGLH"
      },
      "source": [
        "\n",
        "## <font color='#008DFF'> **Question 1**\n",
        "\n",
        "Write code for solving four linear equations with 4 unknowns as follows:<br>\n",
        "$x_1 + 2x_2 + 3x_3 + 5x_4 = 10$<br>\n",
        "$4x_1 + 4x_2 + 5x_3 + 3x_4=4$<br>\n",
        "$3x_1 + 8x_2 + 9x_3 + x_4= 3$<br>\n",
        "$x_1 + x_2 + 3x_3 = 7$<br><br>\n",
        "\n",
        "Afterwards, check results with allclose( ) function, and print out x.\n",
        "\n",
        "<b>Expected result</b><br>x = array([-1.17857143, -3.875     ,  4.01785714,  1.375     ])\n"
      ]
    },
    {
      "cell_type": "code",
      "metadata": {
        "id": "A0wIhEbW04b7",
        "outputId": "d0c1e343-9529-4058-8aca-b4cc446f0e26",
        "colab": {
          "base_uri": "https://localhost:8080/"
        }
      },
      "source": [
        "# Author: Sai Vikram Kattamanchi\n",
        "# Roll No: SK3498\n",
        "import numpy as np\n",
        "A = np.array([[1, 2, 3, 5], [4, 4, 5, 3], [3, 8, 9, 1], [1, 1, 3, 0]])\n",
        "b = np.array([10, 4, 3, 7])\n",
        "x = np.linalg.solve(A, b)\n",
        "expected_x = np.array([-1.17857143, -3.875 , 4.01785714, 1.375])\n",
        "if np.allclose(x, expected_x):\n",
        "    print(\"The solution is correct.\")\n",
        "else:\n",
        "    print(\"The solution is incorrect.\")\n",
        "print(\"x =\", x)\n"
      ],
      "execution_count": null,
      "outputs": [
        {
          "output_type": "stream",
          "name": "stdout",
          "text": [
            "The solution is correct.\n",
            "x = [-1.17857143 -3.875       4.01785714  1.375     ]\n"
          ]
        }
      ]
    },
    {
      "cell_type": "code",
      "source": [
        "# Grader's area\n",
        "#\n",
        "# Here we have only part, so this grade is assigned in M[1,1]\n",
        "# assign the grade and then uncomment the following\n",
        "\n",
        "# M[1,1] =\n",
        "\n",
        "maxScore = maxScore +4;"
      ],
      "metadata": {
        "id": "77c5jSREdt9K"
      },
      "execution_count": null,
      "outputs": []
    },
    {
      "cell_type": "markdown",
      "source": [
        "-----------------\n",
        "-----------------\n",
        "-----------------\n",
        "-----------------"
      ],
      "metadata": {
        "id": "DKD1e5IvkXJz"
      }
    },
    {
      "cell_type": "markdown",
      "metadata": {
        "id": "hH8NLj_UfGLK"
      },
      "source": [
        "## **Part 2: Exploring some data**"
      ]
    },
    {
      "cell_type": "markdown",
      "source": [
        "In this exercise we will be using the 'Boston Housing' dataset. This is an infamous dataset, due to one of its data attributes being the percentage of Black inhabitants of a given town. This dataset has now been removed from official distributions of certain tools (including scikit-learn), but it is still around to remind us how human learned bias can enter Machine Learning pipelines and have unintended (or in some cases, horribly intended) consequences."
      ],
      "metadata": {
        "id": "Wq8IS0kDeOLz"
      }
    },
    {
      "cell_type": "code",
      "metadata": {
        "id": "yJ9yDB9ufGLL"
      },
      "source": [
        "# Boston Housing dataset is no longer available in scikit-learn as of version 1.2\n",
        "# Reading directly using the source URL, with the description omitted.\n",
        "# For more information, view the original source file.\n",
        "\n",
        "# Deprecated scikit-learn 1.1 version:\n",
        "#\n",
        "# from sklearn.datasets import load_boston\n",
        "# ds = load_boston()\n",
        "# samples, label, feature_names = ds.data, ds.target, ds.feature_names\n",
        "# print(samples.shape)\n",
        "# print(feature_names)\n",
        "\n",
        "import pandas as pd\n",
        "import numpy as np\n",
        "\n",
        "data_url = \"http://lib.stat.cmu.edu/datasets/boston\"\n",
        "ds = pd.read_csv(data_url, sep=\"\\s+\", skiprows=22, header=None)\n",
        "samples = np.hstack([ds.values[::2, :], ds.values[1::2, :2]])\n",
        "label = ds.values[1::2, 2]"
      ],
      "execution_count": null,
      "outputs": []
    },
    {
      "cell_type": "code",
      "metadata": {
        "id": "635Xsy-CfGLO",
        "colab": {
          "base_uri": "https://localhost:8080/"
        },
        "outputId": "df0bdb83-6787-4eee-b4db-c9b21c5ea424"
      },
      "source": [
        "# Data description\n",
        "\n",
        "# Deprecated scikit-learn 1.1 version:\n",
        "#\n",
        "# print(ds.DESCR)\n",
        "\n",
        "import requests\n",
        "\n",
        "lines = requests.get(data_url).text.splitlines()\n",
        "for i, line in enumerate(lines[:22]):\n",
        "    print(line)"
      ],
      "execution_count": null,
      "outputs": [
        {
          "output_type": "stream",
          "name": "stdout",
          "text": [
            " The Boston house-price data of Harrison, D. and Rubinfeld, D.L. 'Hedonic\n",
            " prices and the demand for clean air', J. Environ. Economics & Management,\n",
            " vol.5, 81-102, 1978.   Used in Belsley, Kuh & Welsch, 'Regression diagnostics\n",
            " ...', Wiley, 1980.   N.B. Various transformations are used in the table on\n",
            " pages 244-261 of the latter.\n",
            "\n",
            " Variables in order:\n",
            " CRIM     per capita crime rate by town\n",
            " ZN       proportion of residential land zoned for lots over 25,000 sq.ft.\n",
            " INDUS    proportion of non-retail business acres per town\n",
            " CHAS     Charles River dummy variable (= 1 if tract bounds river; 0 otherwise)\n",
            " NOX      nitric oxides concentration (parts per 10 million)\n",
            " RM       average number of rooms per dwelling\n",
            " AGE      proportion of owner-occupied units built prior to 1940\n",
            " DIS      weighted distances to five Boston employment centres\n",
            " RAD      index of accessibility to radial highways\n",
            " TAX      full-value property-tax rate per $10,000\n",
            " PTRATIO  pupil-teacher ratio by town\n",
            " B        1000(Bk - 0.63)^2 where Bk is the proportion of blacks by town\n",
            " LSTAT    % lower status of the population\n",
            " MEDV     Median value of owner-occupied homes in $1000's\n",
            "\n"
          ]
        }
      ]
    },
    {
      "cell_type": "code",
      "metadata": {
        "id": "rR8jIWSafGLR",
        "colab": {
          "base_uri": "https://localhost:8080/"
        },
        "outputId": "c74737c0-fb6d-4770-cc97-9ef713fabf2d"
      },
      "source": [
        "# check to see if there is any null data\n",
        "np.isnan(np.sum(samples))"
      ],
      "execution_count": null,
      "outputs": [
        {
          "output_type": "execute_result",
          "data": {
            "text/plain": [
              "False"
            ]
          },
          "metadata": {},
          "execution_count": 121
        }
      ]
    },
    {
      "cell_type": "code",
      "metadata": {
        "id": "QMjtimPhfGLT"
      },
      "source": [
        "# set print options to make things look nicer\n",
        "np.set_printoptions(suppress=True, linewidth=125)"
      ],
      "execution_count": null,
      "outputs": []
    },
    {
      "cell_type": "code",
      "metadata": {
        "id": "hwXoQA_rfGLY",
        "colab": {
          "base_uri": "https://localhost:8080/"
        },
        "outputId": "31f31e5e-56a6-4125-c1ba-5ba081f03a0e"
      },
      "source": [
        "# find median, variance of the data and put it out in nice looking format\n",
        "median = np.round(np.median(samples, axis=0), decimals=1)\n",
        "variance = np.round(np.var(samples, axis=0), decimals=1)\n",
        "basic_stats = np.vstack((median, variance))\n",
        "basic_stats_label = ['  median','variance']\n",
        "print('\\t\\tCRIM\\tZN\\tINDUS\\tCHAS\\tNOX\\tRM\\tAGE\\tDIS\\tRAD\\tTAX\\tPTRATIO\\tB\\tLSTAT')\n",
        "for basic_stats_label, row in zip(basic_stats_label, basic_stats):\n",
        "    print('{} [\\t{}]'.format(basic_stats_label,\"\".join('%s\\t'%i for i in row)))"
      ],
      "execution_count": null,
      "outputs": [
        {
          "output_type": "stream",
          "name": "stdout",
          "text": [
            "\t\tCRIM\tZN\tINDUS\tCHAS\tNOX\tRM\tAGE\tDIS\tRAD\tTAX\tPTRATIO\tB\tLSTAT\n",
            "  median [\t0.3\t0.0\t9.7\t0.0\t0.5\t6.2\t77.5\t3.2\t5.0\t330.0\t19.0\t391.4\t11.4\t]\n",
            "variance [\t73.8\t542.9\t47.0\t0.1\t0.0\t0.5\t790.8\t4.4\t75.7\t28348.6\t4.7\t8318.3\t50.9\t]\n"
          ]
        }
      ]
    },
    {
      "cell_type": "markdown",
      "metadata": {
        "id": "VS5mKl2lfGLb"
      },
      "source": [
        "## <font color='#008DFF'>  **Question 2**\n",
        "\n",
        "Use function <code>stats.describe</code> to retrieve the max, min, and average of samples, and then display it as in the expected output: <br><br>\n",
        "\n",
        "<b>Expected Output:</b> Something that looks like the following or better: <br>\n",
        "<code>\t CRIM\tZN\tINDUS\tCHAS\tNOX\tRM\tAGE\tDIS\tRAD\tTAX\tPTRATIO\tB\tLSTAT\n",
        " min [\t0.0\t0.0\t0.5\t0.0\t0.4\t3.6\t2.9\t1.1\t1.0\t187.0\t12.6\t0.3\t1.7\t]\n",
        " max [\t89.0\t100.0\t27.7\t1.0\t0.9\t8.8\t100.0\t12.1\t24.0\t711.0\t22.0\t396.9\t38.0\t]\n",
        "mean [\t3.6\t11.4\t11.1\t0.1\t0.6\t6.3\t68.6\t3.8\t9.5\t408.2\t18.5\t356.7\t12.7\t]\n",
        "</code>\n",
        "\n",
        "<b>Answer</b>:"
      ]
    },
    {
      "cell_type": "code",
      "metadata": {
        "id": "OkNtSOsIfGLb",
        "outputId": "c1e728af-9524-4482-df6e-918393fc4d14",
        "colab": {
          "base_uri": "https://localhost:8080/"
        }
      },
      "source": [
        "# Author: Sai Vikram Kattamanchi\n",
        "# Roll No: SK3498\n",
        "from scipy import stats\n",
        "description = stats.describe(samples, axis=0)\n",
        "min_values = np.round(description.minmax[0], decimals=1)\n",
        "max_values = np.round(description.minmax[1], decimals=1)\n",
        "mean_values = np.round(description.mean, decimals=1)\n",
        "print('\\t\\tCRIM\\tZN\\tINDUS\\tCHAS\\tNOX\\tRM\\tAGE\\tDIS\\tRAD\\tTAX\\tPTRATIO\\tB\\tLSTAT')\n",
        "print('min [\\t{}]'.format(\"\\t\".join(str(i) for i in min_values)))\n",
        "print('max [\\t{}]'.format(\"\\t\".join(str(i) for i in max_values)))\n",
        "print('mean [\\t{}]'.format(\"\\t\".join(str(i) for i in mean_values)))\n"
      ],
      "execution_count": null,
      "outputs": [
        {
          "output_type": "stream",
          "name": "stdout",
          "text": [
            "\t\tCRIM\tZN\tINDUS\tCHAS\tNOX\tRM\tAGE\tDIS\tRAD\tTAX\tPTRATIO\tB\tLSTAT\n",
            "min [\t0.0\t0.0\t0.5\t0.0\t0.4\t3.6\t2.9\t1.1\t1.0\t187.0\t12.6\t0.3\t1.7]\n",
            "max [\t89.0\t100.0\t27.7\t1.0\t0.9\t8.8\t100.0\t12.1\t24.0\t711.0\t22.0\t396.9\t38.0]\n",
            "mean [\t3.6\t11.4\t11.1\t0.1\t0.6\t6.3\t68.6\t3.8\t9.5\t408.2\t18.5\t356.7\t12.7]\n"
          ]
        }
      ]
    },
    {
      "cell_type": "code",
      "source": [
        "# Grader's area\n",
        "\n",
        "maxScore = maxScore + 4\n",
        "# M[2,1] ="
      ],
      "metadata": {
        "id": "zPnHTf9MfT5X"
      },
      "execution_count": null,
      "outputs": []
    },
    {
      "cell_type": "markdown",
      "metadata": {
        "id": "l3KaR1wZyRgK"
      },
      "source": [
        "-----------------\n",
        "-----------------\n",
        "-----------------\n",
        "-----------------"
      ]
    },
    {
      "cell_type": "code",
      "metadata": {
        "id": "FzOg-yJwfGLe",
        "outputId": "f173b451-4b40-44ac-da34-114261d9b345",
        "colab": {
          "base_uri": "https://localhost:8080/",
          "height": 559
        }
      },
      "source": [
        "import matplotlib.pyplot as plt\n",
        "\n",
        "# let plot out to see what is the distribution of crime based on the data\n",
        "n, bins, patches = plt.hist(samples[:,0],bins='auto')\n",
        "plt.title('Distribution of crimes')\n",
        "plt.show()\n",
        "print('Bin sizes: {}'.format(n))"
      ],
      "execution_count": null,
      "outputs": [
        {
          "output_type": "display_data",
          "data": {
            "text/plain": [
              "<Figure size 640x480 with 1 Axes>"
            ],
            "image/png": "[encoded data removed]"
          },
          "metadata": {}
        },
        {
          "output_type": "stream",
          "name": "stdout",
          "text": [
            "Bin sizes: [329.  26.  14.   9.  13.  12.  11.   9.   8.   9.   9.   6.   5.   4.   3.   7.   4.   4.   1.   1.   3.   1.   1.   1.\n",
            "   1.   1.   1.   3.   1.   0.   0.   1.   0.   0.   0.   0.   0.   0.   0.   0.   0.   1.   1.   0.   0.   0.   1.   0.\n",
            "   0.   0.   1.   0.   0.   0.   0.   0.   1.   0.   0.   0.   0.   0.   0.   0.   0.   0.   0.   0.   0.   0.   0.   0.\n",
            "   0.   0.   0.   1.   0.   0.   0.   0.   0.   1.   0.   0.   0.   0.   0.   0.   0.   0.   0.   0.   0.   0.   0.   0.\n",
            "   0.   0.   1.]\n"
          ]
        }
      ]
    },
    {
      "cell_type": "markdown",
      "metadata": {
        "id": "53VG7TETfGLg"
      },
      "source": [
        "\n",
        "## <font color='#008DFF'> <b>Question 3</b>\n",
        "\n",
        "Plot out the histogram of another feature of the dataset that you are interested in, give the plot a title, and print out the bin sizes. <br><br>\n",
        "<b>Answer</b>"
      ]
    },
    {
      "cell_type": "code",
      "metadata": {
        "id": "MALZsy3AfGLg",
        "outputId": "88702e46-88e1-4747-a409-b5fe5bcdbb91",
        "colab": {
          "base_uri": "https://localhost:8080/",
          "height": 469
        }
      },
      "source": [
        "# Author: Sai Vikram Kattamanchi\n",
        "# Roll No: SK3498\n",
        "# Plotting the distribution of Median value of owner-occupied homes (in $1000's)\n",
        "import matplotlib.pyplot as plt\n",
        "n, bins, patches = plt.hist(samples[:,-1],bins='auto')\n",
        "plt.title('Median value of owner-occupied homes in $1000s')\n",
        "plt.show()\n",
        "print('Bin sizes: {}'.format(n))"
      ],
      "execution_count": null,
      "outputs": [
        {
          "output_type": "display_data",
          "data": {
            "text/plain": [
              "<Figure size 640x480 with 1 Axes>"
            ],
            "image/png": "[encoded data removed]"
          },
          "metadata": {}
        },
        {
          "output_type": "stream",
          "name": "stdout",
          "text": [
            "Bin sizes: [36. 74. 73. 71. 59. 53. 49. 25. 20. 15. 11. 11.  3.  4.  2.]\n"
          ]
        }
      ]
    },
    {
      "cell_type": "code",
      "source": [
        "# Grader's area\n",
        "\n",
        "maxScore = maxScore+4\n",
        "# M[3,1] ="
      ],
      "metadata": {
        "id": "rGw6wsAfkHzL"
      },
      "execution_count": null,
      "outputs": []
    },
    {
      "cell_type": "markdown",
      "metadata": {
        "id": "cDbu6VbOxzNJ"
      },
      "source": [
        "------------------\n",
        "------------------\n",
        "------------------\n",
        "------------------\n",
        "\n",
        "\n",
        "\n",
        "\n"
      ]
    },
    {
      "cell_type": "code",
      "metadata": {
        "id": "yTYkJsHgfGLk",
        "outputId": "06d603d0-c8a7-4af1-c1b5-4502173fdff6",
        "colab": {
          "base_uri": "https://localhost:8080/"
        }
      },
      "source": [
        "def house_with_defined_age(dataset,age):\n",
        "    '''This function will return indices of all houses with proportion of owner-occupied units built prior to 1940 greater than age%'''\n",
        "    ids = []\n",
        "    for id, record in enumerate(dataset):\n",
        "        if record[6]>age:\n",
        "            ids.append(id)\n",
        "    return ids\n",
        "\n",
        "\n",
        "# list out all records with units built prior to 1940 greater than 50%\n",
        "samples[house_with_defined_age(samples,50)]"
      ],
      "execution_count": null,
      "outputs": [
        {
          "output_type": "execute_result",
          "data": {
            "text/plain": [
              "array([[  0.00632,  18.     ,   2.31   , ...,  15.3    , 396.9    ,   4.98   ],\n",
              "       [  0.02731,   0.     ,   7.07   , ...,  17.8    , 396.9    ,   9.14   ],\n",
              "       [  0.02729,   0.     ,   7.07   , ...,  17.8    , 392.83   ,   4.03   ],\n",
              "       ...,\n",
              "       [  0.06076,   0.     ,  11.93   , ...,  21.     , 396.9    ,   5.64   ],\n",
              "       [  0.10959,   0.     ,  11.93   , ...,  21.     , 393.45   ,   6.48   ],\n",
              "       [  0.04741,   0.     ,  11.93   , ...,  21.     , 396.9    ,   7.88   ]])"
            ]
          },
          "metadata": {},
          "execution_count": 129
        }
      ]
    },
    {
      "cell_type": "markdown",
      "metadata": {
        "id": "N3zhYgVKfGLm"
      },
      "source": [
        "\n",
        "## <font color='#008DFF'> **Question 4**\n",
        "\n",
        "Write a function that takes as input the given dataset and two numbers $a$ and $b$, and returns the IDs of houses for which tax is either less than $a$ or more than $b$. Demonstrate how the function runs with two specific inputs $a$ and $b$ of your choice.\n",
        "\n"
      ]
    },
    {
      "cell_type": "code",
      "metadata": {
        "id": "6_0OKNXtfGLn",
        "outputId": "4efecac6-f8ad-43e3-c017-4cf648929b73",
        "colab": {
          "base_uri": "https://localhost:8080/"
        }
      },
      "source": [
        "# Author: Sai Vikram Kattamanchi\n",
        "# Roll No: SK3498\n",
        "def houses_with_tax_range(dataset, a, b):\n",
        "    ids = []\n",
        "    for id, record in enumerate(dataset):\n",
        "        if record[9] < a or record[9] > b:\n",
        "            ids.append(id)\n",
        "    return ids\n",
        "selected_house_ids = houses_with_tax_range(samples, 200, 500)\n",
        "print(\"Selected house IDs: \", selected_house_ids)\n",
        "selected_houses = samples[selected_house_ids]\n",
        "print(\"Selected houses data: \", selected_houses)\n"
      ],
      "execution_count": null,
      "outputs": [
        {
          "output_type": "stream",
          "name": "stdout",
          "text": [
            "Selected house IDs:  [120, 121, 122, 123, 124, 125, 126, 179, 180, 181, 182, 183, 184, 185, 186, 283, 353, 356, 357, 358, 359, 360, 361, 362, 363, 364, 365, 366, 367, 368, 369, 370, 371, 372, 373, 374, 375, 376, 377, 378, 379, 380, 381, 382, 383, 384, 385, 386, 387, 388, 389, 390, 391, 392, 393, 394, 395, 396, 397, 398, 399, 400, 401, 402, 403, 404, 405, 406, 407, 408, 409, 410, 411, 412, 413, 414, 415, 416, 417, 418, 419, 420, 421, 422, 423, 424, 425, 426, 427, 428, 429, 430, 431, 432, 433, 434, 435, 436, 437, 438, 439, 440, 441, 442, 443, 444, 445, 446, 447, 448, 449, 450, 451, 452, 453, 454, 455, 456, 457, 458, 459, 460, 461, 462, 463, 464, 465, 466, 467, 468, 469, 470, 471, 472, 473, 474, 475, 476, 477, 478, 479, 480, 481, 482, 483, 484, 485, 486, 487, 488, 489, 490, 491, 492]\n",
            "Selected houses data:  [[  0.06899   0.       25.65    ...  19.1     389.15     14.37   ]\n",
            " [  0.07165   0.       25.65    ...  19.1     377.67     14.27   ]\n",
            " [  0.09299   0.       25.65    ...  19.1     378.09     17.93   ]\n",
            " ...\n",
            " [  0.20746   0.       27.74    ...  20.1     318.43     29.68   ]\n",
            " [  0.10574   0.       27.74    ...  20.1     390.11     18.07   ]\n",
            " [  0.11132   0.       27.74    ...  20.1     396.9      13.35   ]]\n"
          ]
        }
      ]
    },
    {
      "cell_type": "code",
      "metadata": {
        "id": "upNrvOZQAqVf"
      },
      "source": [
        "# Grader's area\n",
        "\n",
        "maxScore = maxScore + 4\n",
        "# M[4,1]="
      ],
      "execution_count": null,
      "outputs": []
    },
    {
      "cell_type": "markdown",
      "source": [
        "------------------------------------------\n",
        "------------------------------------------\n",
        "------------------------------------------\n",
        "------------------------------------------"
      ],
      "metadata": {
        "id": "FwAL2fEc2cRP"
      }
    },
    {
      "cell_type": "markdown",
      "metadata": {
        "id": "0h4pDnxJ-06z"
      },
      "source": [
        "## **Part 3: *k*-NN simple implementation**\n",
        "\n",
        "Here we use a simple implementation of *k*-NN in order to understand how objects and methods work."
      ]
    },
    {
      "cell_type": "markdown",
      "source": [
        "## <font color='#008DFF'> **Question 5**\n",
        "\n"
      ],
      "metadata": {
        "id": "5ntY4Cih-qYl"
      }
    },
    {
      "cell_type": "code",
      "metadata": {
        "id": "EKQWqF-FAuky"
      },
      "source": [
        "# the following algorithm is an implementation of the kNN pseudocode we discussed in the lecture\n",
        "\n",
        "class kNN_classifier:\n",
        "  # the hyperparameters that define the object/algorithm\n",
        "  # these are given at initialization\n",
        "  def __init__(self,k, distance='euclidean'):\n",
        "    self.k = k\n",
        "    self.distance = distance\n",
        "\n",
        "\n",
        "  #here we define the methods of the knn classifier object\n",
        "\n",
        "  #the fit method takes as input the data and labels\n",
        "  def fit(self,X,y):\n",
        "    # siply save X, y as part of the object\n",
        "    # y is assumed to have labels 0 or 1 (binary classifier)\n",
        "    self.X = X\n",
        "    self.y = y\n",
        "\n",
        "\n",
        "\n",
        "  def predict(self,x):\n",
        "\n",
        "    # here we expect x to be a row vector of the same\n",
        "    # dimension as the rows of X. no checks are done.\n",
        "\n",
        "    n = self.X.shape[0]\n",
        "    S = []\n",
        "    for j in range(n):\n",
        "\n",
        "      if self.distance =='euclidean':\n",
        "        dst = np.linalg.norm(x-self.X[j,:])\n",
        "\n",
        "      S.append(dst)\n",
        "\n",
        "    # sort distances\n",
        "    prm = np.argsort(S)\n",
        "\n",
        "\n",
        "    c = 0\n",
        "    for j in range(self.k):\n",
        "      idx = prm[j]\n",
        "      if self.y[idx] == 1:\n",
        "        c = c+1\n",
        "\n",
        "    if c >= self.k//2:\n",
        "      return 1\n",
        "    else:\n",
        "      return 0\n"
      ],
      "execution_count": null,
      "outputs": []
    },
    {
      "cell_type": "markdown",
      "source": [
        "### <font color='#008DFF'>  **Question 5(i)**\n",
        "\n",
        "Re-use the scatter plot code from the beginning of [notes](https://colab.research.google.com/drive/1NIHv_CoknQt3UcrMSezu7iUJEsEeyaaN?usp=drive_fs) from Module 1 (Introduction) in order to create a simple dataset with 2 blobs/clusters. Check whether the labels vectors contains 0s and 1s as needed by our *k*-NN code."
      ],
      "metadata": {
        "id": "6eUGohNI_JPS"
      }
    },
    {
      "cell_type": "code",
      "source": [
        "# Author: Sai Vikram Kattamanchi\n",
        "# Roll No: SK3498\n",
        "\n",
        "from sklearn.datasets import make_blobs\n",
        "import matplotlib.pyplot as plt\n",
        "import numpy as np\n",
        "\n",
        "# Generate synthetic data with two clusters\n",
        "X, Y = make_blobs(n_features=2, centers=2, random_state=1)\n",
        "\n",
        "# Plot the data points\n",
        "plt.scatter(X[:, 0], X[:, 1], marker='o', c=Y, s=25, edgecolor='k')\n",
        "plt.show()\n",
        "\n",
        "# Display unique labels\n",
        "unique_labels = np.unique(Y)\n",
        "print(\"Unique labels:\", unique_labels)\n"
      ],
      "metadata": {
        "id": "bp4DLWmz8vXn",
        "colab": {
          "base_uri": "https://localhost:8080/",
          "height": 447
        },
        "outputId": "47074f57-89aa-4de4-fe4f-727a192f08f0"
      },
      "execution_count": null,
      "outputs": [
        {
          "output_type": "display_data",
          "data": {
            "text/plain": [
              "<Figure size 640x480 with 1 Axes>"
            ],
            "image/png": "[encoded data removed]"
          },
          "metadata": {}
        },
        {
          "output_type": "stream",
          "name": "stdout",
          "text": [
            "Unique labels: [0 1]\n"
          ]
        }
      ]
    },
    {
      "cell_type": "code",
      "source": [
        "# Grader's area\n",
        "\n",
        "maxScore = maxScore +5\n",
        "#M[5,1] =\n",
        "\n"
      ],
      "metadata": {
        "id": "NqpvrcbI_xG1"
      },
      "execution_count": null,
      "outputs": []
    },
    {
      "cell_type": "markdown",
      "source": [],
      "metadata": {
        "id": "knWS8oKD_9QI"
      }
    },
    {
      "cell_type": "markdown",
      "source": [
        "### <font color='#008DFF'>  **Question 5(ii)**\n",
        "\n",
        "Initialize a *k*-NN classifier using the class we wrote above. (Hint: see the [*k*-NN lab](https://colab.research.google.com/drive/1Mh6I3bR8pE90kcs28JfKok59NtfV_7ct?usp=drive_fs) for an example of how to initialize an object.)"
      ],
      "metadata": {
        "id": "SROYKfcm_9gk"
      }
    },
    {
      "cell_type": "code",
      "source": [
        "# Author: Sai Vikram Kattamanchi\n",
        "# Roll No: SK3498\n",
        "\n",
        "from sklearn.datasets import make_blobs\n",
        "from sklearn.model_selection import train_test_split\n",
        "from sklearn.preprocessing import StandardScaler\n",
        "import numpy as np\n",
        "import matplotlib.pyplot as plt\n",
        "from matplotlib.colors import ListedColormap\n",
        "\n",
        "class kNN_classifier:\n",
        "    def __init__(self, k, distance='euclidean'):\n",
        "        self.k = k\n",
        "        self.distance = distance\n",
        "\n",
        "    def fit(self, X, y):\n",
        "        self.X = X\n",
        "        self.y = y\n",
        "\n",
        "    def predict(self, X):\n",
        "        predictions = []\n",
        "        for x in X:\n",
        "            n = self.X.shape[0]\n",
        "            S = []\n",
        "            for j in range(n):\n",
        "                dst = np.linalg.norm(x - self.X[j, :])\n",
        "                S.append(dst)\n",
        "            prm = np.argsort(S)\n",
        "            c = 0\n",
        "            for j in range(self.k):\n",
        "                idx = prm[j]\n",
        "                if self.y[idx] == 1:\n",
        "                    c += 1\n",
        "            if c >= self.k // 2:\n",
        "                predictions.append(1)\n",
        "            else:\n",
        "                predictions.append(0)\n",
        "        return np.array(predictions)\n",
        "\n",
        "def plot_decision_regions(X, y, classifier, test_idx=None, resolution=0.02):\n",
        "    markers = ('s', 'x', 'o', '^', 'v')\n",
        "    colors = ('red', 'blue', 'lightgreen', 'gray', 'cyan')\n",
        "    cmap = ListedColormap(colors[:len(np.unique(y))])\n",
        "\n",
        "    x1_min, x1_max = X[:, 0].min() - 1, X[:, 0].max() + 1\n",
        "    x2_min, x2_max = X[:, 1].min() - 1, X[:, 1].max() + 1\n",
        "    xx1, xx2 = np.meshgrid(np.arange(x1_min, x1_max, resolution), np.arange(x2_min, x2_max, resolution))\n",
        "\n",
        "    Z = classifier.predict(np.array([xx1.ravel(), xx2.ravel()]).T)\n",
        "    Z = Z.reshape(xx1.shape)\n",
        "\n",
        "    plt.contourf(xx1, xx2, Z, alpha=0.3, cmap=cmap)\n",
        "    plt.xlim(xx1.min(), xx1.max())\n",
        "    plt.ylim(xx2.min(), xx2.max())\n",
        "\n",
        "    for idx, cl in enumerate(np.unique(y)):\n",
        "        plt.scatter(x=X[y == cl, 0], y=X[y == cl, 1], alpha=0.8, c=colors[idx], marker=markers[idx], label=cl, edgecolor='black')\n",
        "\n",
        "X, Y = make_blobs(n_features=2, centers=2, random_state=1)\n",
        "X_train, X_test, y_train, y_test = train_test_split(X, Y, test_size=0.3, random_state=1, stratify=Y)\n",
        "sc = StandardScaler()\n",
        "sc.fit(X_train)\n",
        "X_train_std = sc.transform(X_train)\n",
        "X_test_std = sc.transform(X_test)\n",
        "\n",
        "X_combined_std = np.vstack((X_train_std, X_test_std))\n",
        "y_combined = np.hstack((y_train, y_test))\n",
        "\n",
        "knn_classifier = kNN_classifier(k=3, distance='euclidean')\n",
        "knn_classifier.fit(X_train_std, y_train)\n",
        "\n",
        "plot_decision_regions(X_combined_std, y_combined, classifier=knn_classifier)\n",
        "plt.xlabel('Feature 1 [standardized]')\n",
        "plt.ylabel('Feature 2 [standardized]')\n",
        "plt.legend(loc='upper left')\n",
        "plt.tight_layout()\n",
        "plt.show()\n"
      ],
      "metadata": {
        "id": "2Ni9kwJLAQUc",
        "colab": {
          "base_uri": "https://localhost:8080/",
          "height": 542
        },
        "outputId": "126f9a88-dfbf-4d36-8f9b-6aeb3fa15351"
      },
      "execution_count": null,
      "outputs": [
        {
          "output_type": "stream",
          "name": "stderr",
          "text": [
            "<ipython-input-135-0ddf1cd376af>:57: UserWarning: You passed a edgecolor/edgecolors ('black') for an unfilled marker ('x').  Matplotlib is ignoring the edgecolor in favor of the facecolor.  This behavior may change in the future.\n",
            "  plt.scatter(x=X[y == cl, 0], y=X[y == cl, 1], alpha=0.8, c=colors[idx], marker=markers[idx], label=cl, edgecolor='black')\n"
          ]
        },
        {
          "output_type": "display_data",
          "data": {
            "text/plain": [
              "<Figure size 640x480 with 1 Axes>"
            ],
            "image/png": "[encoded data removed]"
          },
          "metadata": {}
        }
      ]
    },
    {
      "cell_type": "code",
      "source": [
        "# Grader's area\n",
        "\n",
        "maxScore = maxScore +5\n",
        "#M[5,2] =\n",
        "\n"
      ],
      "metadata": {
        "id": "701AcFiuAQUc"
      },
      "execution_count": null,
      "outputs": []
    },
    {
      "cell_type": "markdown",
      "source": [
        "### <font color='#008DFF'>  **Question 5(iii)**\n",
        "\n",
        "Add code in the *k*-NN classifier defined above, in order to handle the case when the hyperparameter *distance* is set to 'Manhattan'."
      ],
      "metadata": {
        "id": "6VchLMyhAaP5"
      }
    },
    {
      "cell_type": "code",
      "source": [
        "# Author: Sai Vikram Kattamanchi\n",
        "# Roll No: SK3498\n",
        "\n",
        "import numpy as np\n",
        "from sklearn.datasets import make_blobs\n",
        "from sklearn.model_selection import train_test_split\n",
        "from sklearn.preprocessing import StandardScaler\n",
        "import matplotlib.pyplot as plt\n",
        "from matplotlib.colors import ListedColormap\n",
        "\n",
        "class kNN_classifier:\n",
        "    def __init__(self, k, distance='euclidean'):\n",
        "        self.k = k\n",
        "        self.distance = distance\n",
        "\n",
        "    def fit(self, X, y):\n",
        "        self.X = X\n",
        "        self.y = y\n",
        "\n",
        "    def predict(self, X):\n",
        "        predictions = []\n",
        "        for x in X:\n",
        "            n = self.X.shape[0]\n",
        "            S = []\n",
        "            for j in range(n):\n",
        "                dst = np.linalg.norm(x - self.X[j, :]) if self.distance == 'euclidean' else np.sum(np.abs(x - self.X[j, :]))\n",
        "                S.append(dst)\n",
        "            prm = np.argsort(S)\n",
        "            c = 0\n",
        "            for j in range(self.k):\n",
        "                idx = prm[j]\n",
        "                if self.y[idx] == 1:\n",
        "                    c += 1\n",
        "            predictions.append(1 if c >= self.k // 2 else 0)\n",
        "        return np.array(predictions)\n",
        "\n",
        "def plot_decision_regions(X, y, classifier, test_idx=None, resolution=0.02):\n",
        "    markers = ('s', 'x', 'o', '^', 'v')\n",
        "    colors = ('red', 'blue', 'lightgreen', 'gray', 'cyan')\n",
        "    cmap = ListedColormap(colors[:len(np.unique(y))])\n",
        "\n",
        "    x1_min, x1_max = X[:, 0].min() - 1, X[:, 0].max() + 1\n",
        "    x2_min, x2_max = X[:, 1].min() - 1, X[:, 1].max() + 1\n",
        "    xx1, xx2 = np.meshgrid(np.arange(x1_min, x1_max, resolution), np.arange(x2_min, x2_max, resolution))\n",
        "\n",
        "    Z = classifier.predict(np.array([xx1.ravel(), xx2.ravel()]).T)\n",
        "    Z = Z.reshape(xx1.shape)\n",
        "    plt.contourf(xx1, xx2, Z, alpha=0.3, cmap=cmap)\n",
        "    plt.xlim(xx1.min(), xx1.max())\n",
        "    plt.ylim(xx2.min(), xx2.max())\n",
        "\n",
        "    for idx, cl in enumerate(np.unique(y)):\n",
        "        plt.scatter(x=X[y == cl, 0], y=X[y == cl, 1], alpha=0.8, c=colors[idx], marker=markers[idx], label=cl, edgecolor='black')\n",
        "\n",
        "X, Y = make_blobs(n_features=2, centers=2, random_state=1)\n",
        "X_train, X_test, y_train, y_test = train_test_split(X, Y, test_size=0.3, random_state=1, stratify=Y)\n",
        "sc = StandardScaler()\n",
        "sc.fit(X_train)\n",
        "X_train_std = sc.transform(X_train)\n",
        "X_test_std = sc.transform(X_test)\n",
        "\n",
        "X_combined_std = np.vstack((X_train_std, X_test_std))\n",
        "y_combined = np.hstack((y_train, y_test))\n",
        "\n",
        "knn_classifier_euclidean = kNN_classifier(k=3, distance='euclidean')\n",
        "knn_classifier_euclidean.fit(X_train_std, y_train)\n",
        "\n",
        "knn_classifier_manhattan = kNN_classifier(k=3, distance='manhattan')\n",
        "knn_classifier_manhattan.fit(X_train_std, y_train)\n",
        "\n",
        "plt.figure()\n",
        "plot_decision_regions(X_combined_std, y_combined, classifier=knn_classifier_euclidean)\n",
        "plt.title('k-NN with Euclidean Distance')\n",
        "plt.xlabel('Feature 1 [standardized]')\n",
        "plt.ylabel('Feature 2 [standardized]')\n",
        "plt.legend(loc='upper left')\n",
        "plt.tight_layout()\n",
        "plt.show()\n",
        "\n",
        "plt.figure()\n",
        "plot_decision_regions(X_combined_std, y_combined, classifier=knn_classifier_manhattan)\n",
        "plt.title('k-NN with Manhattan Distance')\n",
        "plt.xlabel('Feature 1 [standardized]')\n",
        "plt.ylabel('Feature 2 [standardized]')\n",
        "plt.legend(loc='upper left')\n",
        "plt.tight_layout()\n",
        "plt.show()\n"
      ],
      "metadata": {
        "id": "_2w5NybMB6oT",
        "colab": {
          "base_uri": "https://localhost:8080/",
          "height": 1000
        },
        "outputId": "70c0d2f9-0639-47f2-ea13-a744b057d0b1"
      },
      "execution_count": null,
      "outputs": [
        {
          "output_type": "stream",
          "name": "stderr",
          "text": [
            "<ipython-input-137-0521c2fd81da>:53: UserWarning: You passed a edgecolor/edgecolors ('black') for an unfilled marker ('x').  Matplotlib is ignoring the edgecolor in favor of the facecolor.  This behavior may change in the future.\n",
            "  plt.scatter(x=X[y == cl, 0], y=X[y == cl, 1], alpha=0.8, c=colors[idx], marker=markers[idx], label=cl, edgecolor='black')\n"
          ]
        },
        {
          "output_type": "display_data",
          "data": {
            "text/plain": [
              "<Figure size 640x480 with 1 Axes>"
            ],
            "image/png": "[encoded data removed]"
          },
          "metadata": {}
        },
        {
          "output_type": "display_data",
          "data": {
            "text/plain": [
              "<Figure size 640x480 with 1 Axes>"
            ],
            "image/png": "[encoded data removed]"
          },
          "metadata": {}
        }
      ]
    },
    {
      "cell_type": "code",
      "source": [
        "# Grader's area\n",
        "\n",
        "maxScore = maxScore +5\n",
        "#M[5,3] =\n",
        "\n"
      ],
      "metadata": {
        "id": "HsiMfcevAqlW"
      },
      "execution_count": null,
      "outputs": []
    },
    {
      "cell_type": "markdown",
      "source": [
        "----------------------\n",
        "----------------------\n",
        "----------------------"
      ],
      "metadata": {
        "id": "oRMj1OX-B_fn"
      }
    },
    {
      "cell_type": "code",
      "source": [
        "#Grader's area\n",
        "\n",
        "rawScore = np.sum(M)\n",
        "score = rawScore*40/maxScore"
      ],
      "metadata": {
        "id": "IVkneTzYCAxs"
      },
      "execution_count": null,
      "outputs": []
    },
    {
      "cell_type": "code",
      "source": [],
      "metadata": {
        "id": "fo4TYoEFCSTt"
      },
      "execution_count": null,
      "outputs": []
    }
  ]
}